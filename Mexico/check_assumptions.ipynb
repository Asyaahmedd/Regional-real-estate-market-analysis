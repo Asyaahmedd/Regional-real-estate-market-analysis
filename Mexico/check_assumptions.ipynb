{
  "nbformat": 4,
  "nbformat_minor": 0,
  "metadata": {
    "colab": {
      "provenance": []
    },
    "kernelspec": {
      "name": "python3",
      "display_name": "Python 3"
    },
    "language_info": {
      "name": "python"
    }
  },
  "cells": [
    {
      "cell_type": "markdown",
      "source": [
        "## Location or Size: What Influences House Prices in Mexico?\n",
        "\n",
        "There is an assumptions that the location of the house influenced house prices than size let's check that."
      ],
      "metadata": {
        "id": "VvsIeAX1mR-4"
      }
    },
    {
      "cell_type": "markdown",
      "source": [
        "## Import Libraries"
      ],
      "metadata": {
        "id": "XlORuDV8m08I"
      }
    },
    {
      "cell_type": "code",
      "execution_count": null,
      "metadata": {
        "id": "oEfCSf8UmMiQ"
      },
      "outputs": [],
      "source": [
        "import matplotlib.pyplot as plt\n",
        "import pandas as pd"
      ]
    },
    {
      "cell_type": "markdown",
      "source": [
        "##load Dataset\n"
      ],
      "metadata": {
        "id": "-txegY_km8nb"
      }
    },
    {
      "cell_type": "code",
      "source": [
        "df = pd.read_csv(\"/content/mexico-real-estate-clean.csv\",encoding='latin-1',index_col=0)\n"
      ],
      "metadata": {
        "id": "QIq23ggnmS_F"
      },
      "execution_count": null,
      "outputs": []
    },
    {
      "cell_type": "code",
      "source": [
        "df.head()"
      ],
      "metadata": {
        "colab": {
          "base_uri": "https://localhost:8080/",
          "height": 237
        },
        "id": "XxR_ZVgYnS6Y",
        "outputId": "47acf511-f2bf-40e1-af54-71b3ca4f3105"
      },
      "execution_count": null,
      "outputs": [
        {
          "output_type": "execute_result",
          "data": {
            "text/plain": [
              "                           state        lat         lon  area_m2  price_usd\n",
              "property_type                                                              \n",
              "house          Estado de MÃ©xico  19.560181  -99.233528      150   67965.56\n",
              "house                Nuevo LeÃ³n  25.688436 -100.198807      186   63223.78\n",
              "apartment               Guerrero  16.767704  -99.764383       82   84298.37\n",
              "apartment               Guerrero  16.829782  -99.911012      150   94308.80\n",
              "house                   YucatÃ¡n  21.052583  -89.538639      205  105191.37"
            ],
            "text/html": [
              "\n",
              "  <div id=\"df-bcf7c9b5-10ba-4280-81fa-a926e55087d7\">\n",
              "    <div class=\"colab-df-container\">\n",
              "      <div>\n",
              "<style scoped>\n",
              "    .dataframe tbody tr th:only-of-type {\n",
              "        vertical-align: middle;\n",
              "    }\n",
              "\n",
              "    .dataframe tbody tr th {\n",
              "        vertical-align: top;\n",
              "    }\n",
              "\n",
              "    .dataframe thead th {\n",
              "        text-align: right;\n",
              "    }\n",
              "</style>\n",
              "<table border=\"1\" class=\"dataframe\">\n",
              "  <thead>\n",
              "    <tr style=\"text-align: right;\">\n",
              "      <th></th>\n",
              "      <th>state</th>\n",
              "      <th>lat</th>\n",
              "      <th>lon</th>\n",
              "      <th>area_m2</th>\n",
              "      <th>price_usd</th>\n",
              "    </tr>\n",
              "    <tr>\n",
              "      <th>property_type</th>\n",
              "      <th></th>\n",
              "      <th></th>\n",
              "      <th></th>\n",
              "      <th></th>\n",
              "      <th></th>\n",
              "    </tr>\n",
              "  </thead>\n",
              "  <tbody>\n",
              "    <tr>\n",
              "      <th>house</th>\n",
              "      <td>Estado de MÃ©xico</td>\n",
              "      <td>19.560181</td>\n",
              "      <td>-99.233528</td>\n",
              "      <td>150</td>\n",
              "      <td>67965.56</td>\n",
              "    </tr>\n",
              "    <tr>\n",
              "      <th>house</th>\n",
              "      <td>Nuevo LeÃ³n</td>\n",
              "      <td>25.688436</td>\n",
              "      <td>-100.198807</td>\n",
              "      <td>186</td>\n",
              "      <td>63223.78</td>\n",
              "    </tr>\n",
              "    <tr>\n",
              "      <th>apartment</th>\n",
              "      <td>Guerrero</td>\n",
              "      <td>16.767704</td>\n",
              "      <td>-99.764383</td>\n",
              "      <td>82</td>\n",
              "      <td>84298.37</td>\n",
              "    </tr>\n",
              "    <tr>\n",
              "      <th>apartment</th>\n",
              "      <td>Guerrero</td>\n",
              "      <td>16.829782</td>\n",
              "      <td>-99.911012</td>\n",
              "      <td>150</td>\n",
              "      <td>94308.80</td>\n",
              "    </tr>\n",
              "    <tr>\n",
              "      <th>house</th>\n",
              "      <td>YucatÃ¡n</td>\n",
              "      <td>21.052583</td>\n",
              "      <td>-89.538639</td>\n",
              "      <td>205</td>\n",
              "      <td>105191.37</td>\n",
              "    </tr>\n",
              "  </tbody>\n",
              "</table>\n",
              "</div>\n",
              "      <button class=\"colab-df-convert\" onclick=\"convertToInteractive('df-bcf7c9b5-10ba-4280-81fa-a926e55087d7')\"\n",
              "              title=\"Convert this dataframe to an interactive table.\"\n",
              "              style=\"display:none;\">\n",
              "        \n",
              "  <svg xmlns=\"http://www.w3.org/2000/svg\" height=\"24px\"viewBox=\"0 0 24 24\"\n",
              "       width=\"24px\">\n",
              "    <path d=\"M0 0h24v24H0V0z\" fill=\"none\"/>\n",
              "    <path d=\"M18.56 5.44l.94 2.06.94-2.06 2.06-.94-2.06-.94-.94-2.06-.94 2.06-2.06.94zm-11 1L8.5 8.5l.94-2.06 2.06-.94-2.06-.94L8.5 2.5l-.94 2.06-2.06.94zm10 10l.94 2.06.94-2.06 2.06-.94-2.06-.94-.94-2.06-.94 2.06-2.06.94z\"/><path d=\"M17.41 7.96l-1.37-1.37c-.4-.4-.92-.59-1.43-.59-.52 0-1.04.2-1.43.59L10.3 9.45l-7.72 7.72c-.78.78-.78 2.05 0 2.83L4 21.41c.39.39.9.59 1.41.59.51 0 1.02-.2 1.41-.59l7.78-7.78 2.81-2.81c.8-.78.8-2.07 0-2.86zM5.41 20L4 18.59l7.72-7.72 1.47 1.35L5.41 20z\"/>\n",
              "  </svg>\n",
              "      </button>\n",
              "      \n",
              "  <style>\n",
              "    .colab-df-container {\n",
              "      display:flex;\n",
              "      flex-wrap:wrap;\n",
              "      gap: 12px;\n",
              "    }\n",
              "\n",
              "    .colab-df-convert {\n",
              "      background-color: #E8F0FE;\n",
              "      border: none;\n",
              "      border-radius: 50%;\n",
              "      cursor: pointer;\n",
              "      display: none;\n",
              "      fill: #1967D2;\n",
              "      height: 32px;\n",
              "      padding: 0 0 0 0;\n",
              "      width: 32px;\n",
              "    }\n",
              "\n",
              "    .colab-df-convert:hover {\n",
              "      background-color: #E2EBFA;\n",
              "      box-shadow: 0px 1px 2px rgba(60, 64, 67, 0.3), 0px 1px 3px 1px rgba(60, 64, 67, 0.15);\n",
              "      fill: #174EA6;\n",
              "    }\n",
              "\n",
              "    [theme=dark] .colab-df-convert {\n",
              "      background-color: #3B4455;\n",
              "      fill: #D2E3FC;\n",
              "    }\n",
              "\n",
              "    [theme=dark] .colab-df-convert:hover {\n",
              "      background-color: #434B5C;\n",
              "      box-shadow: 0px 1px 3px 1px rgba(0, 0, 0, 0.15);\n",
              "      filter: drop-shadow(0px 1px 2px rgba(0, 0, 0, 0.3));\n",
              "      fill: #FFFFFF;\n",
              "    }\n",
              "  </style>\n",
              "\n",
              "      <script>\n",
              "        const buttonEl =\n",
              "          document.querySelector('#df-bcf7c9b5-10ba-4280-81fa-a926e55087d7 button.colab-df-convert');\n",
              "        buttonEl.style.display =\n",
              "          google.colab.kernel.accessAllowed ? 'block' : 'none';\n",
              "\n",
              "        async function convertToInteractive(key) {\n",
              "          const element = document.querySelector('#df-bcf7c9b5-10ba-4280-81fa-a926e55087d7');\n",
              "          const dataTable =\n",
              "            await google.colab.kernel.invokeFunction('convertToInteractive',\n",
              "                                                     [key], {});\n",
              "          if (!dataTable) return;\n",
              "\n",
              "          const docLinkHtml = 'Like what you see? Visit the ' +\n",
              "            '<a target=\"_blank\" href=https://colab.research.google.com/notebooks/data_table.ipynb>data table notebook</a>'\n",
              "            + ' to learn more about interactive tables.';\n",
              "          element.innerHTML = '';\n",
              "          dataTable['output_type'] = 'display_data';\n",
              "          await google.colab.output.renderOutput(dataTable, element);\n",
              "          const docLink = document.createElement('div');\n",
              "          docLink.innerHTML = docLinkHtml;\n",
              "          element.appendChild(docLink);\n",
              "        }\n",
              "      </script>\n",
              "    </div>\n",
              "  </div>\n",
              "  "
            ]
          },
          "metadata": {},
          "execution_count": 3
        }
      ]
    },
    {
      "cell_type": "markdown",
      "source": [
        "##Which state has the most expensive real estate market?"
      ],
      "metadata": {
        "id": "FHzV0PTknY6C"
      }
    },
    {
      "cell_type": "markdown",
      "source": [
        "Do housing prices vary by state? If so, which are the most expensive states for purchasing a home? \n",
        "Now, we need to break that calculation down by state and visualize the results."
      ],
      "metadata": {
        "id": "6SB8XQwXniJu"
      }
    },
    {
      "cell_type": "code",
      "source": [
        "#divide our dataset into groups (one per state) and calculate the mean house price for each group.\n",
        "mean_price_by_state = df.groupby(\"state\")[\"price_usd\"].mean().sort_values(ascending=False)\n",
        "mean_price_by_state"
      ],
      "metadata": {
        "colab": {
          "base_uri": "https://localhost:8080/"
        },
        "id": "kAu-wCQOnVUm",
        "outputId": "bf719382-e25f-456d-eed5-082cbf885677"
      },
      "execution_count": null,
      "outputs": [
        {
          "output_type": "execute_result",
          "data": {
            "text/plain": [
              "state\n",
              "QuerÃ©taro                         133955.913281\n",
              "Guanajuato                         133277.965833\n",
              "Nuevo LeÃ³n                        129221.985663\n",
              "Distrito Federal                   128347.267426\n",
              "Quintana Roo                       128065.416053\n",
              "Chihuahua                          127073.852000\n",
              "Jalisco                            123386.472167\n",
              "Estado de MÃ©xico                  122723.490503\n",
              "Campeche                           121734.633333\n",
              "Puebla                             121732.974000\n",
              "Guerrero                           119854.276122\n",
              "Sonora                             114547.883333\n",
              "Morelos                            112697.295625\n",
              "Aguascalientes                     110543.888000\n",
              "Baja California Sur                109069.339333\n",
              "YucatÃ¡n                           108580.388596\n",
              "Chiapas                            104342.313273\n",
              "Veracruz de Ignacio de la Llave     96928.125128\n",
              "Hidalgo                             94012.326471\n",
              "Sinaloa                             93922.152308\n",
              "Tamaulipas                          93713.385833\n",
              "San Luis PotosÃ­                    92435.540364\n",
              "Nayarit                             87378.605556\n",
              "Tabasco                             82763.587000\n",
              "Durango                             78034.511429\n",
              "Zacatecas                           76395.400000\n",
              "Tlaxcala                            72921.818333\n",
              "Colima                              65786.646000\n",
              "Baja California                     63152.431724\n",
              "Oaxaca                              59681.585000\n",
              "Name: price_usd, dtype: float64"
            ]
          },
          "metadata": {},
          "execution_count": 4
        }
      ]
    },
    {
      "cell_type": "code",
      "source": [
        "#create a bar chart to show the results\n",
        "mean_price_by_state.plot(\n",
        "    kind=\"bar\",\n",
        "    xlabel=\"State\",\n",
        "    ylabel=\"Mean Price [USD]\",\n",
        "    title = \"Mean House Price by State\");"
      ],
      "metadata": {
        "colab": {
          "base_uri": "https://localhost:8080/",
          "height": 441
        },
        "id": "FQZoaMNGnvRg",
        "outputId": "63963069-f3ee-44e0-9b2a-3e50ba95a52b"
      },
      "execution_count": null,
      "outputs": [
        {
          "output_type": "display_data",
          "data": {
            "text/plain": [
              "<Figure size 432x288 with 1 Axes>"
            ],
            "image/png": "[encoded data removed]"
          },
          "metadata": {
            "needs_background": "light"
          }
        }
      ]
    },
    {
      "cell_type": "markdown",
      "source": [
        "It seems weird that Querétaro is  Mexico's most expensive real estate market because according to recent GDP numbers, it's not in the top 10 state economies. \n",
        "Since house sizes vary across states, a better metric would be the price per m2.In order to do that, we need to create a new column.\n"
      ],
      "metadata": {
        "id": "Qq5yFSycoFZ_"
      }
    },
    {
      "cell_type": "code",
      "source": [
        "df[\"price_per_m2\"] = df[\"price_usd\"]/df[\"area_m2\"]\n",
        "df.head()"
      ],
      "metadata": {
        "colab": {
          "base_uri": "https://localhost:8080/",
          "height": 237
        },
        "id": "xkzC_Xpin-zI",
        "outputId": "f417c467-0f92-42d3-b124-d88911f9e3b4"
      },
      "execution_count": null,
      "outputs": [
        {
          "output_type": "execute_result",
          "data": {
            "text/plain": [
              "                           state        lat         lon  area_m2  price_usd  \\\n",
              "property_type                                                                 \n",
              "house          Estado de MÃ©xico  19.560181  -99.233528      150   67965.56   \n",
              "house                Nuevo LeÃ³n  25.688436 -100.198807      186   63223.78   \n",
              "apartment               Guerrero  16.767704  -99.764383       82   84298.37   \n",
              "apartment               Guerrero  16.829782  -99.911012      150   94308.80   \n",
              "house                   YucatÃ¡n  21.052583  -89.538639      205  105191.37   \n",
              "\n",
              "               price_per_m2  \n",
              "property_type                \n",
              "house            453.103733  \n",
              "house            339.912796  \n",
              "apartment       1028.028902  \n",
              "apartment        628.725333  \n",
              "house            513.128634  "
            ],
            "text/html": [
              "\n",
              "  <div id=\"df-6c2e4ef3-c239-45dc-bcd9-89f33ec25c84\">\n",
              "    <div class=\"colab-df-container\">\n",
              "      <div>\n",
              "<style scoped>\n",
              "    .dataframe tbody tr th:only-of-type {\n",
              "        vertical-align: middle;\n",
              "    }\n",
              "\n",
              "    .dataframe tbody tr th {\n",
              "        vertical-align: top;\n",
              "    }\n",
              "\n",
              "    .dataframe thead th {\n",
              "        text-align: right;\n",
              "    }\n",
              "</style>\n",
              "<table border=\"1\" class=\"dataframe\">\n",
              "  <thead>\n",
              "    <tr style=\"text-align: right;\">\n",
              "      <th></th>\n",
              "      <th>state</th>\n",
              "      <th>lat</th>\n",
              "      <th>lon</th>\n",
              "      <th>area_m2</th>\n",
              "      <th>price_usd</th>\n",
              "      <th>price_per_m2</th>\n",
              "    </tr>\n",
              "    <tr>\n",
              "      <th>property_type</th>\n",
              "      <th></th>\n",
              "      <th></th>\n",
              "      <th></th>\n",
              "      <th></th>\n",
              "      <th></th>\n",
              "      <th></th>\n",
              "    </tr>\n",
              "  </thead>\n",
              "  <tbody>\n",
              "    <tr>\n",
              "      <th>house</th>\n",
              "      <td>Estado de MÃ©xico</td>\n",
              "      <td>19.560181</td>\n",
              "      <td>-99.233528</td>\n",
              "      <td>150</td>\n",
              "      <td>67965.56</td>\n",
              "      <td>453.103733</td>\n",
              "    </tr>\n",
              "    <tr>\n",
              "      <th>house</th>\n",
              "      <td>Nuevo LeÃ³n</td>\n",
              "      <td>25.688436</td>\n",
              "      <td>-100.198807</td>\n",
              "      <td>186</td>\n",
              "      <td>63223.78</td>\n",
              "      <td>339.912796</td>\n",
              "    </tr>\n",
              "    <tr>\n",
              "      <th>apartment</th>\n",
              "      <td>Guerrero</td>\n",
              "      <td>16.767704</td>\n",
              "      <td>-99.764383</td>\n",
              "      <td>82</td>\n",
              "      <td>84298.37</td>\n",
              "      <td>1028.028902</td>\n",
              "    </tr>\n",
              "    <tr>\n",
              "      <th>apartment</th>\n",
              "      <td>Guerrero</td>\n",
              "      <td>16.829782</td>\n",
              "      <td>-99.911012</td>\n",
              "      <td>150</td>\n",
              "      <td>94308.80</td>\n",
              "      <td>628.725333</td>\n",
              "    </tr>\n",
              "    <tr>\n",
              "      <th>house</th>\n",
              "      <td>YucatÃ¡n</td>\n",
              "      <td>21.052583</td>\n",
              "      <td>-89.538639</td>\n",
              "      <td>205</td>\n",
              "      <td>105191.37</td>\n",
              "      <td>513.128634</td>\n",
              "    </tr>\n",
              "  </tbody>\n",
              "</table>\n",
              "</div>\n",
              "      <button class=\"colab-df-convert\" onclick=\"convertToInteractive('df-6c2e4ef3-c239-45dc-bcd9-89f33ec25c84')\"\n",
              "              title=\"Convert this dataframe to an interactive table.\"\n",
              "              style=\"display:none;\">\n",
              "        \n",
              "  <svg xmlns=\"http://www.w3.org/2000/svg\" height=\"24px\"viewBox=\"0 0 24 24\"\n",
              "       width=\"24px\">\n",
              "    <path d=\"M0 0h24v24H0V0z\" fill=\"none\"/>\n",
              "    <path d=\"M18.56 5.44l.94 2.06.94-2.06 2.06-.94-2.06-.94-.94-2.06-.94 2.06-2.06.94zm-11 1L8.5 8.5l.94-2.06 2.06-.94-2.06-.94L8.5 2.5l-.94 2.06-2.06.94zm10 10l.94 2.06.94-2.06 2.06-.94-2.06-.94-.94-2.06-.94 2.06-2.06.94z\"/><path d=\"M17.41 7.96l-1.37-1.37c-.4-.4-.92-.59-1.43-.59-.52 0-1.04.2-1.43.59L10.3 9.45l-7.72 7.72c-.78.78-.78 2.05 0 2.83L4 21.41c.39.39.9.59 1.41.59.51 0 1.02-.2 1.41-.59l7.78-7.78 2.81-2.81c.8-.78.8-2.07 0-2.86zM5.41 20L4 18.59l7.72-7.72 1.47 1.35L5.41 20z\"/>\n",
              "  </svg>\n",
              "      </button>\n",
              "      \n",
              "  <style>\n",
              "    .colab-df-container {\n",
              "      display:flex;\n",
              "      flex-wrap:wrap;\n",
              "      gap: 12px;\n",
              "    }\n",
              "\n",
              "    .colab-df-convert {\n",
              "      background-color: #E8F0FE;\n",
              "      border: none;\n",
              "      border-radius: 50%;\n",
              "      cursor: pointer;\n",
              "      display: none;\n",
              "      fill: #1967D2;\n",
              "      height: 32px;\n",
              "      padding: 0 0 0 0;\n",
              "      width: 32px;\n",
              "    }\n",
              "\n",
              "    .colab-df-convert:hover {\n",
              "      background-color: #E2EBFA;\n",
              "      box-shadow: 0px 1px 2px rgba(60, 64, 67, 0.3), 0px 1px 3px 1px rgba(60, 64, 67, 0.15);\n",
              "      fill: #174EA6;\n",
              "    }\n",
              "\n",
              "    [theme=dark] .colab-df-convert {\n",
              "      background-color: #3B4455;\n",
              "      fill: #D2E3FC;\n",
              "    }\n",
              "\n",
              "    [theme=dark] .colab-df-convert:hover {\n",
              "      background-color: #434B5C;\n",
              "      box-shadow: 0px 1px 3px 1px rgba(0, 0, 0, 0.15);\n",
              "      filter: drop-shadow(0px 1px 2px rgba(0, 0, 0, 0.3));\n",
              "      fill: #FFFFFF;\n",
              "    }\n",
              "  </style>\n",
              "\n",
              "      <script>\n",
              "        const buttonEl =\n",
              "          document.querySelector('#df-6c2e4ef3-c239-45dc-bcd9-89f33ec25c84 button.colab-df-convert');\n",
              "        buttonEl.style.display =\n",
              "          google.colab.kernel.accessAllowed ? 'block' : 'none';\n",
              "\n",
              "        async function convertToInteractive(key) {\n",
              "          const element = document.querySelector('#df-6c2e4ef3-c239-45dc-bcd9-89f33ec25c84');\n",
              "          const dataTable =\n",
              "            await google.colab.kernel.invokeFunction('convertToInteractive',\n",
              "                                                     [key], {});\n",
              "          if (!dataTable) return;\n",
              "\n",
              "          const docLinkHtml = 'Like what you see? Visit the ' +\n",
              "            '<a target=\"_blank\" href=https://colab.research.google.com/notebooks/data_table.ipynb>data table notebook</a>'\n",
              "            + ' to learn more about interactive tables.';\n",
              "          element.innerHTML = '';\n",
              "          dataTable['output_type'] = 'display_data';\n",
              "          await google.colab.output.renderOutput(dataTable, element);\n",
              "          const docLink = document.createElement('div');\n",
              "          docLink.innerHTML = docLinkHtml;\n",
              "          element.appendChild(docLink);\n",
              "        }\n",
              "      </script>\n",
              "    </div>\n",
              "  </div>\n",
              "  "
            ]
          },
          "metadata": {},
          "execution_count": 6
        }
      ]
    },
    {
      "cell_type": "code",
      "source": [
        "(\n",
        "    df\n",
        "    .groupby(\"state\") \n",
        "    [\"price_per_m2\"].mean() #use the groupby method to create a Series where the index contains each state in the dataset and the values correspond to the mean house price per m2 for that state.\n",
        "    .sort_values(ascending= False) #Make sure the states are sorted from the highest to lowest mean\n",
        "    #use the Series to create a bar chart of your results. \n",
        "    .plot(\n",
        "     kind =\"bar\",\n",
        "     xlabel=\"State\",\n",
        "     ylabel=\"Mean Price per M^2[USD]\",\n",
        "     title=\"Mean House Price per M^2 by State\")\n",
        ");"
      ],
      "metadata": {
        "colab": {
          "base_uri": "https://localhost:8080/",
          "height": 441
        },
        "id": "qlMPJFmFo0SN",
        "outputId": "af0db43a-fe57-41a8-b634-b64023ee8144"
      },
      "execution_count": null,
      "outputs": [
        {
          "output_type": "display_data",
          "data": {
            "text/plain": [
              "<Figure size 432x288 with 1 Axes>"
            ],
            "image/png": "[encoded data removed]"
          },
          "metadata": {
            "needs_background": "light"
          }
        }
      ]
    },
    {
      "cell_type": "markdown",
      "source": [
        "Now we see that the capital Mexico City (Distrito Federal) is by far the most expensive market. Additionally, many of the top 10 states by GDP are also in the top 10 most expensive real estate markets."
      ],
      "metadata": {
        "id": "IMrO-L1apZKS"
      }
    },
    {
      "cell_type": "markdown",
      "source": [
        "##Is there a relationship between home size and price?"
      ],
      "metadata": {
        "id": "j5cm_3ympe7H"
      }
    },
    {
      "cell_type": "markdown",
      "source": [
        "From our previous question, we know that the location of a home affects its price (especially if it's in Mexico City), but what about home size? Does the size of a house influence price?"
      ],
      "metadata": {
        "id": "BSD7pt8ZpqcI"
      }
    },
    {
      "cell_type": "code",
      "source": [
        "plt.scatter(data=df,x=\"area_m2\",y=\"price_usd\")\n",
        "plt.xlabel(\"Area [sq meters]\")\n",
        "plt.ylabel(\"Price [USD]\");"
      ],
      "metadata": {
        "colab": {
          "base_uri": "https://localhost:8080/",
          "height": 279
        },
        "id": "N1GMsbbnpUpa",
        "outputId": "91917e6d-57b3-4ac2-81c3-7f8ecc599dab"
      },
      "execution_count": null,
      "outputs": [
        {
          "output_type": "display_data",
          "data": {
            "text/plain": [
              "<Figure size 432x288 with 1 Axes>"
            ],
            "image/png": "[encoded data removed]"
          },
          "metadata": {
            "needs_background": "light"
          }
        }
      ]
    },
    {
      "cell_type": "markdown",
      "source": [
        "From the above scatter plot , we can see that there's a positive correlation between the size and the price of the house — in other words, the bigger the house, the higher the price. But how can we quantify this correlation?"
      ],
      "metadata": {
        "id": "UOOK8rPxpyG4"
      }
    },
    {
      "cell_type": "code",
      "source": [
        "#Let's calculate the pearson correlation Coefficient\n",
        "p_correlation = df[\"area_m2\"].corr(df[\"price_usd\"])\n",
        "print(p_correlation)"
      ],
      "metadata": {
        "colab": {
          "base_uri": "https://localhost:8080/"
        },
        "id": "_-hkYnfPpt6D",
        "outputId": "6883ce8e-4ded-4f6a-ebbf-c8a459cbaea0"
      },
      "execution_count": null,
      "outputs": [
        {
          "output_type": "stream",
          "name": "stdout",
          "text": [
            "0.585518245323206\n"
          ]
        }
      ]
    },
    {
      "cell_type": "markdown",
      "source": [
        "there's a moderate relationship house size and price in Mexico. But does this relationship hold true in every state? Let's look at a couple of states, starting with Morelos."
      ],
      "metadata": {
        "id": "y_94EsH9qPBS"
      }
    },
    {
      "cell_type": "code",
      "source": [
        "#Create a new dataframe contains only the rows that have Morelos value in state column\n",
        "df_morelos = df[df['state']=='Morelos']\n",
        "df_morelos.shape"
      ],
      "metadata": {
        "colab": {
          "base_uri": "https://localhost:8080/"
        },
        "id": "P_qGJdDUqHHJ",
        "outputId": "2cd9163e-a7dd-40ee-b528-25b317caeaa5"
      },
      "execution_count": null,
      "outputs": [
        {
          "output_type": "execute_result",
          "data": {
            "text/plain": [
              "(160, 6)"
            ]
          },
          "metadata": {},
          "execution_count": 10
        }
      ]
    },
    {
      "cell_type": "code",
      "source": [
        "#shows price vs area in Morelos state\n",
        "plt.scatter(data=df_morelos,x=\"area_m2\",y=\"price_usd\")\n",
        "plt.xlabel(\"Area [sq meters]\")\n",
        "plt.ylabel(\"Price [USD]\")\n",
        "plt.title(\"Morelos: Price vs. Area\");"
      ],
      "metadata": {
        "colab": {
          "base_uri": "https://localhost:8080/",
          "height": 295
        },
        "id": "Z4jAkv-9qVBe",
        "outputId": "7a5bc707-e055-48c0-f201-212f2b1488b1"
      },
      "execution_count": null,
      "outputs": [
        {
          "output_type": "display_data",
          "data": {
            "text/plain": [
              "<Figure size 432x288 with 1 Axes>"
            ],
            "image/png": "[encoded data removed]"
          },
          "metadata": {
            "needs_background": "light"
          }
        }
      ]
    },
    {
      "cell_type": "markdown",
      "source": [
        "The correlation is more stronger within Morelos. "
      ],
      "metadata": {
        "id": "QRK86adAq491"
      }
    },
    {
      "cell_type": "code",
      "source": [
        "#calculate the correlation coefficient and verify that that's the case.\n",
        "p_correlation = df_morelos['area_m2'].corr(df_morelos['price_usd'])\n",
        "print(p_correlation)"
      ],
      "metadata": {
        "colab": {
          "base_uri": "https://localhost:8080/"
        },
        "id": "qhKpQnPsqnZT",
        "outputId": "b2d7e021-c622-4eac-ed69-f3afbba28575"
      },
      "execution_count": null,
      "outputs": [
        {
          "output_type": "stream",
          "name": "stdout",
          "text": [
            "0.8498077608713708\n"
          ]
        }
      ]
    },
    {
      "cell_type": "markdown",
      "source": [
        "There's a strong relationship between house size and price in Morelos.\n",
        "Let's look at another state "
      ],
      "metadata": {
        "id": "N9Zpt0ZVrGWk"
      }
    },
    {
      "cell_type": "code",
      "source": [
        "# Subset `df` to include only observations from `\"Distrito Federal\"`\n",
        "df_mexico_city = df[df['state']=='Distrito Federal']\n",
        "\n",
        "# Create a scatter plot price vs area\n",
        "plt.scatter(data=df_mexico_city,x=\"area_m2\",y=\"price_usd\")\n",
        "\n",
        "p_correlation = df_mexico_city[\"area_m2\"].corr(df_mexico_city[\"price_usd\"])\n",
        "print(\"Correlation Coefficient : \",p_correlation ,\" \\n\")"
      ],
      "metadata": {
        "colab": {
          "base_uri": "https://localhost:8080/",
          "height": 300
        },
        "id": "3O67vtserB9y",
        "outputId": "4a2c518b-8a79-4f84-9e2b-f50738ae9b8f"
      },
      "execution_count": null,
      "outputs": [
        {
          "output_type": "stream",
          "name": "stdout",
          "text": [
            "Correlation Coefficient :  0.41070392130717864  \n",
            "\n"
          ]
        },
        {
          "output_type": "display_data",
          "data": {
            "text/plain": [
              "<Figure size 432x288 with 1 Axes>"
            ],
            "image/png": "[encoded data removed]"
          },
          "metadata": {
            "needs_background": "light"
          }
        }
      ]
    },
    {
      "cell_type": "markdown",
      "source": [
        "Looking at the scatter plot and correlation coefficient, there's see a weak relationship between size and price.\n",
        "\n",
        "One interpretation is that the relationship we see between size and price in many states doesn't hold true in the country's biggest and most economically powerful urban center because there are other factors that have a larger influence on price."
      ],
      "metadata": {
        "id": "c_lituHEomOr"
      }
    }
  ]
}